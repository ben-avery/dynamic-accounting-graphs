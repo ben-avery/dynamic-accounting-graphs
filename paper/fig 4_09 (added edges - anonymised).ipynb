{
 "cells": [
  {
   "cell_type": "code",
   "execution_count": 1,
   "metadata": {},
   "outputs": [],
   "source": [
    "# Library imports\n",
    "import numpy as np\n",
    "import pickle\n",
    "import matplotlib.pyplot as plt\n",
    "\n",
    "import tools\n",
    "from train import generate_graph, train"
   ]
  },
  {
   "cell_type": "code",
   "execution_count": 2,
   "metadata": {},
   "outputs": [
    {
     "data": {
      "text/plain": [
       "{'divide': 'warn', 'over': 'warn', 'under': 'ignore', 'invalid': 'warn'}"
      ]
     },
     "execution_count": 2,
     "metadata": {},
     "output_type": "execute_result"
    }
   ],
   "source": [
    "# Fix random seed for reproducibility\n",
    "np.random.seed(628496)\n",
    "\n",
    "# Stop on errors\n",
    "np.seterr('raise')"
   ]
  },
  {
   "cell_type": "code",
   "execution_count": 3,
   "metadata": {},
   "outputs": [],
   "source": [
    "# Load the anonymised data\n",
    "file_path = 'datasets\\\\real_data_graph.pkl'\n",
    "with open(file_path, 'rb') as f:\n",
    "    edges_by_day, last_day, raw_accounts = pickle.load(f)\n"
   ]
  },
  {
   "cell_type": "code",
   "execution_count": 4,
   "metadata": {},
   "outputs": [
    {
     "name": "stdout",
     "output_type": "stream",
     "text": [
      "There were 295 edges generated.\n"
     ]
    }
   ],
   "source": [
    "# Count the number of generated edges to validate that the correct data is loaded\n",
    "count_edges = sum(len(day) for day in edges_by_day.values())\n",
    "print(f'There were {count_edges} edges generated.')"
   ]
  },
  {
   "cell_type": "code",
   "execution_count": 5,
   "metadata": {},
   "outputs": [
    {
     "name": "stdout",
     "output_type": "stream",
     "text": [
      "3 edges were added with a total value of £69,048\n"
     ]
    }
   ],
   "source": [
    "# Add three additional (4, 7) edges, summing to around 5% of the\n",
    "# original aggregate value of (4, 7) edges\n",
    "\n",
    "# Count edges (4, 7)\n",
    "count_target_edges = 0\n",
    "count_added_value = 0\n",
    "for day in sorted(list(edges_by_day.keys())):\n",
    "    edges = edges_by_day[day]\n",
    "    count_target_edges += len([\n",
    "        edge\n",
    "        for edge in edges\n",
    "        if edge[0] == 4 and edge[1] == 7\n",
    "    ])\n",
    "    count_added_value += sum(\n",
    "        edge[2]\n",
    "        for edge in edges\n",
    "        if edge[0] == 4 and edge[1] == 7\n",
    "    )\n",
    "\n",
    "count_added_edges = 3\n",
    "count_added_value /= count_added_edges\n",
    "\n",
    "# Choose random days\n",
    "random_days = np.random.randint(0, last_day, count_added_edges)\n",
    "\n",
    "# Add the edges to those days\n",
    "for day in random_days:\n",
    "    if day not in edges_by_day:\n",
    "        edges_by_day[day] = []\n",
    "\n",
    "    edges_by_day[day].append((4, 7, count_added_value / count_added_edges))\n",
    "\n",
    "\n",
    "print(f'{count_added_edges} edges were added with a total value of £{count_added_value:,.0f}')"
   ]
  },
  {
   "cell_type": "code",
   "execution_count": 6,
   "metadata": {},
   "outputs": [
    {
     "name": "stdout",
     "output_type": "stream",
     "text": [
      "There are now 298 edges.\n"
     ]
    }
   ],
   "source": [
    "# Count the number of generated edges\n",
    "count_edges = sum(len(day) for day in edges_by_day.values())\n",
    "print(f'There are now {count_edges} edges.')"
   ]
  },
  {
   "cell_type": "code",
   "execution_count": 7,
   "metadata": {},
   "outputs": [],
   "source": [
    "# Create a graph object with the generated accounts\n",
    "graph = generate_graph(\n",
    "    raw_accounts=raw_accounts,\n",
    "    edges_by_day=edges_by_day,\n",
    "    last_day=last_day,\n",
    "    node_dimension=256,\n",
    "    graph_kwords={\n",
    "        'causal_learning_rate': 0.001,\n",
    "        'spontaneous_learning_rate': 10**(-6),\n",
    "        'weight_regularisation_rate': 10**(-6)\n",
    "    }\n",
    ")"
   ]
  },
  {
   "cell_type": "code",
   "execution_count": 8,
   "metadata": {},
   "outputs": [
    {
     "name": "stderr",
     "output_type": "stream",
     "text": [
      "100%|██████████| 200/200 [2:30:21<00:00, 45.11s/it]  \n"
     ]
    }
   ],
   "source": [
    "# Train on the tainted data\n",
    "probabilities = train(\n",
    "    graph, edges_by_day, last_day, iterations=200,\n",
    "    plot_log_likelihood=False, use_tqdm=True,\n",
    "    spontaneous_learning_startpoint=150\n",
    "    )"
   ]
  },
  {
   "cell_type": "code",
   "execution_count": 9,
   "metadata": {},
   "outputs": [],
   "source": [
    "# Save the trained model and results\n",
    "with open('saved_results//added_edges_anonymised_results.pkl', 'wb') as f:\n",
    "    pickle.dump((probabilities, graph), f)"
   ]
  },
  {
   "cell_type": "code",
   "execution_count": 10,
   "metadata": {},
   "outputs": [
    {
     "name": "stderr",
     "output_type": "stream",
     "text": [
      "100%|██████████| 38/38 [00:01<00:00, 27.96it/s]\n"
     ]
    }
   ],
   "source": [
    "# Find the probability that the number of a particular edge type on a particular\n",
    "# day is higher than expected (suggesting edges have been added)\n",
    "all_probabilities = tools.return_probabilities_of_added_edges(graph, edges_by_day)"
   ]
  },
  {
   "cell_type": "code",
   "execution_count": 11,
   "metadata": {},
   "outputs": [
    {
     "name": "stdout",
     "output_type": "stream",
     "text": [
      "There were 81 day-edge pairs.\n"
     ]
    }
   ],
   "source": [
    "print(f'There were {len(all_probabilities)} day-edge pairs.')"
   ]
  },
  {
   "cell_type": "code",
   "execution_count": 12,
   "metadata": {},
   "outputs": [],
   "source": [
    "# Sort the probabilities from most to least suspicious\n",
    "all_probabilities.sort(key=lambda x: x[3], reverse=True)"
   ]
  },
  {
   "cell_type": "code",
   "execution_count": 13,
   "metadata": {},
   "outputs": [
    {
     "name": "stdout",
     "output_type": "stream",
     "text": [
      "Item 20 of 81: (327, 4, 7, 0.9999990000005)\n",
      "Item 26 of 81: (140, 4, 7, 0.9999989399823755)\n",
      "Item 56 of 81: (156, 4, 7, 0.9938665887740719)\n"
     ]
    }
   ],
   "source": [
    "# Find the locations of the added edges and the genuine edges\n",
    "added_rank = []\n",
    "notadded_rank = []\n",
    "for i, edge in enumerate(all_probabilities):\n",
    "    if edge[0] in random_days and edge[1] == 4 and edge[2] == 7:\n",
    "        print(f'Item {i+1} of {len(all_probabilities)}:', edge)\n",
    "        added_rank.append(i)\n",
    "    elif edge[1] == 4 and edge[2] == 7:\n",
    "        notadded_rank.append(i)"
   ]
  },
  {
   "cell_type": "code",
   "execution_count": 14,
   "metadata": {},
   "outputs": [
    {
     "data": {
      "image/png": "[encoded data removed]",
      "text/plain": [
       "<Figure size 640x480 with 1 Axes>"
      ]
     },
     "metadata": {},
     "output_type": "display_data"
    }
   ],
   "source": [
    "# Plot all the probabilities, highlighting which ones were added and\n",
    "# which were genuine of the same edge\n",
    "plt.fill_between(\n",
    "    np.arange(len(all_probabilities)),\n",
    "    np.zeros(len(all_probabilities)),\n",
    "    np.array([edge[3] for edge in all_probabilities]),\n",
    "    color='#d3d3d3',\n",
    "    label='Other edge'\n",
    ")\n",
    "plt.bar(\n",
    "    added_rank,\n",
    "    [all_probabilities[i][3] for i in added_rank],\n",
    "    width=1.0,\n",
    "    color='#d62728',\n",
    "    label='Added (4, 7) edge'\n",
    ")\n",
    "plt.bar(\n",
    "    notadded_rank,\n",
    "    [all_probabilities[i][3] for i in notadded_rank],\n",
    "    width=1.0,\n",
    "    color='#5f9ea0',\n",
    "    label='Genuine (4, 7) edge'\n",
    ")\n",
    "plt.scatter(\n",
    "    added_rank,\n",
    "    [all_probabilities[i][3] for i in added_rank],\n",
    "    marker='*', c='red'\n",
    ")\n",
    "\n",
    "plt.legend(loc='center left')\n",
    "\n",
    "plt.xlabel('Possible edge and day (sorted)')\n",
    "plt.ylabel('Probability of added edges')\n",
    "plt.title('Probabilities of added edges for different edges and days')\n",
    "\n",
    "plt.show()"
   ]
  },
  {
   "cell_type": "code",
   "execution_count": 15,
   "metadata": {},
   "outputs": [
    {
     "name": "stdout",
     "output_type": "stream",
     "text": [
      "Average added rank: 34.0\n",
      "Genuine average rank: 54.4\n"
     ]
    }
   ],
   "source": [
    "print(f'Average added rank: {np.mean([i+1 for i in added_rank])}')\n",
    "print(f'Genuine average rank: {np.mean([i+1 for i in notadded_rank])}')"
   ]
  }
 ],
 "metadata": {
  "kernelspec": {
   "display_name": "Python 3",
   "language": "python",
   "name": "python3"
  },
  "language_info": {
   "codemirror_mode": {
    "name": "ipython",
    "version": 3
   },
   "file_extension": ".py",
   "mimetype": "text/x-python",
   "name": "python",
   "nbconvert_exporter": "python",
   "pygments_lexer": "ipython3",
   "version": "3.10.11"
  }
 },
 "nbformat": 4,
 "nbformat_minor": 2
}
