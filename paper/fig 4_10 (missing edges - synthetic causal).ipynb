{
 "cells": [
  {
   "cell_type": "code",
   "execution_count": 1,
   "metadata": {},
   "outputs": [],
   "source": [
    "# Library imports\n",
    "import numpy as np\n",
    "import pickle\n",
    "import matplotlib.pyplot as plt\n",
    "import random\n",
    "\n",
    "import tools\n",
    "from train import generate_graph, train"
   ]
  },
  {
   "cell_type": "code",
   "execution_count": 2,
   "metadata": {},
   "outputs": [
    {
     "data": {
      "text/plain": [
       "{'divide': 'warn', 'over': 'warn', 'under': 'ignore', 'invalid': 'warn'}"
      ]
     },
     "execution_count": 2,
     "metadata": {},
     "output_type": "execute_result"
    }
   ],
   "source": [
    "# Fix random seed for reproducibility\n",
    "np.random.seed(628496)\n",
    "random.seed(628496)\n",
    "\n",
    "# Stop on errors\n",
    "np.seterr('raise')"
   ]
  },
  {
   "cell_type": "code",
   "execution_count": 3,
   "metadata": {},
   "outputs": [
    {
     "name": "stdout",
     "output_type": "stream",
     "text": [
      "There were 240 edges generated.\n"
     ]
    }
   ],
   "source": [
    "# Generate the synthetic data\n",
    "edges_by_day, last_day, raw_accounts = tools.simulate_simple_data()\n",
    "\n",
    "# Count the number of generated edges to validate that it has generated correctly\n",
    "count_edges = sum(len(day) for day in edges_by_day.values())\n",
    "print(f'There were {count_edges} edges generated.')"
   ]
  },
  {
   "cell_type": "code",
   "execution_count": 4,
   "metadata": {},
   "outputs": [
    {
     "name": "stdout",
     "output_type": "stream",
     "text": [
      "5 edges were removed. 235 edges remaining.\n"
     ]
    }
   ],
   "source": [
    "# Remove 5% debtor-settle edges\n",
    "\n",
    "# Count edges (2, 3)\n",
    "debtor_settle_edge_days = []\n",
    "for day in sorted(list(edges_by_day.keys())):\n",
    "    edges = edges_by_day[day]\n",
    "    for edge in edges:\n",
    "        if edge[0] == 2 and edge[1] == 3:\n",
    "            debtor_settle_edge_days.append((day, edge[0], edge[1], edge[2]))\n",
    "\n",
    "count_removed_edges = int(len(debtor_settle_edge_days) * 0.05)\n",
    "\n",
    "# Choose random edges\n",
    "random_edges = random.sample(debtor_settle_edge_days, count_removed_edges)\n",
    "random_days = set(edge[0] for edge in random_edges)\n",
    "\n",
    "# Remove the edges from those days\n",
    "for day, i, j, value in random_edges:\n",
    "    edges_by_day[day].remove((i, j, value))\n",
    "\n",
    "print(f'{count_removed_edges} edges were removed. {sum(len(edges) for edges in edges_by_day.values())} edges remaining.')"
   ]
  },
  {
   "cell_type": "code",
   "execution_count": 5,
   "metadata": {},
   "outputs": [],
   "source": [
    "# Create a graph object with the generated accounts\n",
    "graph = generate_graph(\n",
    "    raw_accounts=raw_accounts,\n",
    "    edges_by_day=edges_by_day,\n",
    "    last_day=last_day,\n",
    "    node_dimension=128,\n",
    "    graph_kwords={\n",
    "        'causal_learning_rate': 0.01,\n",
    "        'spontaneous_learning_rate': 10**(-6),\n",
    "        'weight_regularisation_rate': 10**(-5),\n",
    "        'spontaneous_regularisation_rate': 10**(-7)\n",
    "    }\n",
    ")"
   ]
  },
  {
   "cell_type": "code",
   "execution_count": 6,
   "metadata": {},
   "outputs": [
    {
     "name": "stderr",
     "output_type": "stream",
     "text": [
      "100%|██████████| 200/200 [28:50<00:00,  8.65s/it]\n"
     ]
    }
   ],
   "source": [
    "# Train on the tainted data\n",
    "probabilities = train(\n",
    "    graph, edges_by_day, last_day, iterations=200,\n",
    "    plot_log_likelihood=False, use_tqdm=True,\n",
    "    spontaneous_learning_startpoint=75\n",
    "    )"
   ]
  },
  {
   "cell_type": "code",
   "execution_count": 7,
   "metadata": {},
   "outputs": [],
   "source": [
    "# Save the trained model and results\n",
    "with open('saved_results//missing_edges_synthetic_causal_results.pkl', 'wb') as f:\n",
    "    pickle.dump((probabilities, graph), f)"
   ]
  },
  {
   "cell_type": "code",
   "execution_count": 8,
   "metadata": {},
   "outputs": [
    {
     "name": "stderr",
     "output_type": "stream",
     "text": [
      "  0%|          | 0/365 [00:00<?, ?it/s]"
     ]
    },
    {
     "name": "stderr",
     "output_type": "stream",
     "text": [
      "100%|██████████| 365/365 [00:01<00:00, 274.99it/s]\n"
     ]
    }
   ],
   "source": [
    "# Find the probability that the number of a particular edge type on a particular\n",
    "# day is lower than expected (suggesting edges have been removed/omitted)\n",
    "all_probabilities = tools.return_probabilities_of_missing_edges(graph, edges_by_day, last_day)"
   ]
  },
  {
   "cell_type": "code",
   "execution_count": 9,
   "metadata": {},
   "outputs": [
    {
     "name": "stdout",
     "output_type": "stream",
     "text": [
      "There were 4380 day-edge pairs (including those with count=0).\n"
     ]
    }
   ],
   "source": [
    "print(f'There were {len(all_probabilities)} day-edge pairs (including those with count=0).')"
   ]
  },
  {
   "cell_type": "code",
   "execution_count": 10,
   "metadata": {},
   "outputs": [],
   "source": [
    "# Sort the probabilities from most to least suspicious\n",
    "all_probabilities.sort(key=lambda x: x[3], reverse=True)"
   ]
  },
  {
   "cell_type": "code",
   "execution_count": 11,
   "metadata": {},
   "outputs": [
    {
     "name": "stdout",
     "output_type": "stream",
     "text": [
      "Item 1 of 4380: (59, 2, 3, 0.6203375395241477, 0, 0.9684726829057354, 0.000287014181746987, 0.9681856687239884)\n",
      "Item 2 of 4380: (170, 2, 3, 0.6201933936122838, 0, 0.9680930863694599, 0.00018946012586103288, 0.9679036262435988)\n",
      "Item 4 of 4380: (110, 2, 3, 0.5779437986791779, 1, 1.9415552248624033, 0.0003322791278546053, 1.9412229457345487)\n",
      "Item 5 of 4380: (111, 2, 3, 0.5750165735130757, 1, 1.931074024415102, 0.00029547097749669957, 1.9307785534376052)\n",
      "Item 6 of 4380: (38, 2, 3, 0.5745462222401081, 1, 1.9293948244049852, 0.0002766994763009397, 1.9291181249286842)\n"
     ]
    }
   ],
   "source": [
    "# Find the locations of the added edges and the genuine edges\n",
    "removed_rank = []\n",
    "notremoved_rank = []\n",
    "for i, edge in enumerate(all_probabilities):\n",
    "    if edge[0] in random_days and edge[1] == 2 and edge[2] == 3:\n",
    "        print(f'Item {i+1} of {len(all_probabilities)}:', edge)\n",
    "        removed_rank.append(i)\n",
    "    elif edge[1] == 2 and edge[2] == 3:\n",
    "        notremoved_rank.append(i)"
   ]
  },
  {
   "cell_type": "code",
   "execution_count": 13,
   "metadata": {},
   "outputs": [
    {
     "data": {
      "image/png": "[encoded data removed]",
      "text/plain": [
       "<Figure size 640x480 with 1 Axes>"
      ]
     },
     "metadata": {},
     "output_type": "display_data"
    }
   ],
   "source": [
    "# Plot all the probabilities, highlighting which ones had edges removed and\n",
    "# which ones related to the same edge type but were unamended\n",
    "plt.fill_between(\n",
    "    np.arange(len(all_probabilities)),\n",
    "    np.zeros(len(all_probabilities)),\n",
    "    np.array([edge[3] for edge in all_probabilities]),\n",
    "    color='#d3d3d3',\n",
    "    label='Other edge'\n",
    ")\n",
    "plt.bar(\n",
    "    removed_rank,\n",
    "    [all_probabilities[i][3] for i in removed_rank],\n",
    "    width=1.0,\n",
    "    color='#d62728',\n",
    "    label='Removed (2, 3) edge'\n",
    ")\n",
    "plt.bar(\n",
    "    notremoved_rank,\n",
    "    [all_probabilities[i][3] for i in notremoved_rank],\n",
    "    width=1.0,\n",
    "    color='#5f9ea0',\n",
    "    label='Genuine (2, 3) edge'\n",
    ")\n",
    "plt.scatter(\n",
    "    removed_rank,\n",
    "    [all_probabilities[i][3] for i in removed_rank],\n",
    "    marker='*', c='red'\n",
    ")\n",
    "\n",
    "plt.legend(loc='upper right')\n",
    "\n",
    "plt.xlabel('Possible edge and day (sorted)')\n",
    "plt.ylabel('Probability of missing edges')\n",
    "plt.title('Probabilities of missing edges for different edges and days')\n",
    "\n",
    "plt.show()"
   ]
  },
  {
   "cell_type": "code",
   "execution_count": 14,
   "metadata": {},
   "outputs": [
    {
     "name": "stdout",
     "output_type": "stream",
     "text": [
      "Average removed rank: 3.6\n",
      "Genuine average rank: 1457.963888888889\n"
     ]
    }
   ],
   "source": [
    "print(f'Average removed rank: {np.mean([i+1 for i in removed_rank])}')\n",
    "print(f'Genuine average rank: {np.mean([i+1 for i in notremoved_rank])}')"
   ]
  }
 ],
 "metadata": {
  "kernelspec": {
   "display_name": "Python 3",
   "language": "python",
   "name": "python3"
  },
  "language_info": {
   "codemirror_mode": {
    "name": "ipython",
    "version": 3
   },
   "file_extension": ".py",
   "mimetype": "text/x-python",
   "name": "python",
   "nbconvert_exporter": "python",
   "pygments_lexer": "ipython3",
   "version": "3.10.11"
  }
 },
 "nbformat": 4,
 "nbformat_minor": 2
}
