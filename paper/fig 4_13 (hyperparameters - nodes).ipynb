{
 "cells": [
  {
   "cell_type": "code",
   "execution_count": 1,
   "metadata": {},
   "outputs": [],
   "source": [
    "# Library imports\n",
    "import numpy as np\n",
    "import time\n",
    "import matplotlib.pyplot as plt\n",
    "import pickle\n",
    "from tqdm import tqdm\n",
    "\n",
    "import tools\n",
    "from train import generate_graph, train"
   ]
  },
  {
   "cell_type": "markdown",
   "metadata": {},
   "source": [
    "# Reproducibility\n",
    "\n",
    "The results of this notebook are not deterministic. Therefore, the results from a previous run are loaded here. Run this cell instead of the cells in the following section ('Experiment Code') in order to generate an identical plot to the accompanying paper in the 'Plot' section at the end of the notebook."
   ]
  },
  {
   "cell_type": "code",
   "execution_count": 2,
   "metadata": {},
   "outputs": [],
   "source": [
    "# Load the previous results\n",
    "with open('saved_results//hyperparameters_nodes_results.pkl', 'rb') as f:\n",
    "    results = pickle.load(f)"
   ]
  },
  {
   "cell_type": "markdown",
   "metadata": {},
   "source": [
    "# Experiment Code"
   ]
  },
  {
   "cell_type": "code",
   "execution_count": 3,
   "metadata": {},
   "outputs": [
    {
     "data": {
      "text/plain": [
       "{'divide': 'warn', 'over': 'warn', 'under': 'ignore', 'invalid': 'warn'}"
      ]
     },
     "execution_count": 3,
     "metadata": {},
     "output_type": "execute_result"
    }
   ],
   "source": [
    "# Fix random seed for reproducibility\n",
    "np.random.seed(628496)\n",
    "\n",
    "# Stop on errors\n",
    "np.seterr('raise')"
   ]
  },
  {
   "cell_type": "code",
   "execution_count": 4,
   "metadata": {},
   "outputs": [
    {
     "name": "stderr",
     "output_type": "stream",
     "text": [
      "100%|██████████| 50/50 [00:02<00:00, 18.93it/s]\n"
     ]
    },
    {
     "name": "stdout",
     "output_type": "stream",
     "text": [
      "1 sales nodes, 12 edges, time taken: 0.0459 minutes, final log-likelihood: -26.71\n"
     ]
    },
    {
     "name": "stderr",
     "output_type": "stream",
     "text": [
      "100%|██████████| 50/50 [00:04<00:00, 10.03it/s]\n"
     ]
    },
    {
     "name": "stdout",
     "output_type": "stream",
     "text": [
      "2 sales nodes, 11 edges, time taken: 0.0831 minutes, final log-likelihood: -37.90\n"
     ]
    },
    {
     "name": "stderr",
     "output_type": "stream",
     "text": [
      "100%|██████████| 50/50 [00:10<00:00,  4.73it/s]\n"
     ]
    },
    {
     "name": "stdout",
     "output_type": "stream",
     "text": [
      "3 sales nodes, 16 edges, time taken: 0.1763 minutes, final log-likelihood: -50.72\n"
     ]
    },
    {
     "name": "stderr",
     "output_type": "stream",
     "text": [
      "100%|██████████| 50/50 [00:30<00:00,  1.62it/s]\n"
     ]
    },
    {
     "name": "stdout",
     "output_type": "stream",
     "text": [
      "4 sales nodes, 30 edges, time taken: 0.5158 minutes, final log-likelihood: -82.17\n"
     ]
    },
    {
     "name": "stderr",
     "output_type": "stream",
     "text": [
      "100%|██████████| 50/50 [00:50<00:00,  1.00s/it]\n"
     ]
    },
    {
     "name": "stdout",
     "output_type": "stream",
     "text": [
      "5 sales nodes, 37 edges, time taken: 0.8359 minutes, final log-likelihood: -119.34\n"
     ]
    },
    {
     "name": "stderr",
     "output_type": "stream",
     "text": [
      "100%|██████████| 50/50 [01:14<00:00,  1.49s/it]\n"
     ]
    },
    {
     "name": "stdout",
     "output_type": "stream",
     "text": [
      "6 sales nodes, 35 edges, time taken: 1.2382 minutes, final log-likelihood: -109.02\n"
     ]
    },
    {
     "name": "stderr",
     "output_type": "stream",
     "text": [
      "100%|██████████| 50/50 [01:38<00:00,  1.97s/it]\n"
     ]
    },
    {
     "name": "stdout",
     "output_type": "stream",
     "text": [
      "7 sales nodes, 43 edges, time taken: 1.6397 minutes, final log-likelihood: -167.14\n"
     ]
    },
    {
     "name": "stderr",
     "output_type": "stream",
     "text": [
      "100%|██████████| 50/50 [02:34<00:00,  3.08s/it]\n"
     ]
    },
    {
     "name": "stdout",
     "output_type": "stream",
     "text": [
      "8 sales nodes, 49 edges, time taken: 2.5678 minutes, final log-likelihood: -145.27\n"
     ]
    },
    {
     "name": "stderr",
     "output_type": "stream",
     "text": [
      "100%|██████████| 50/50 [04:57<00:00,  5.94s/it]\n"
     ]
    },
    {
     "name": "stdout",
     "output_type": "stream",
     "text": [
      "9 sales nodes, 71 edges, time taken: 4.9531 minutes, final log-likelihood: -231.69\n"
     ]
    },
    {
     "name": "stderr",
     "output_type": "stream",
     "text": [
      "100%|██████████| 50/50 [05:51<00:00,  7.03s/it]\n"
     ]
    },
    {
     "name": "stdout",
     "output_type": "stream",
     "text": [
      "10 sales nodes, 77 edges, time taken: 5.8606 minutes, final log-likelihood: -253.55\n"
     ]
    },
    {
     "name": "stderr",
     "output_type": "stream",
     "text": [
      "100%|██████████| 50/50 [06:26<00:00,  7.72s/it]\n"
     ]
    },
    {
     "name": "stdout",
     "output_type": "stream",
     "text": [
      "11 sales nodes, 75 edges, time taken: 6.4378 minutes, final log-likelihood: -267.00\n"
     ]
    },
    {
     "name": "stderr",
     "output_type": "stream",
     "text": [
      "100%|██████████| 50/50 [08:26<00:00, 10.13s/it]\n"
     ]
    },
    {
     "name": "stdout",
     "output_type": "stream",
     "text": [
      "12 sales nodes, 85 edges, time taken: 8.4449 minutes, final log-likelihood: -305.56\n"
     ]
    },
    {
     "name": "stderr",
     "output_type": "stream",
     "text": [
      "100%|██████████| 50/50 [14:59<00:00, 18.00s/it]\n"
     ]
    },
    {
     "name": "stdout",
     "output_type": "stream",
     "text": [
      "13 sales nodes, 117 edges, time taken: 15.0005 minutes, final log-likelihood: -388.96\n"
     ]
    },
    {
     "name": "stderr",
     "output_type": "stream",
     "text": [
      "100%|██████████| 50/50 [14:44<00:00, 17.69s/it]\n"
     ]
    },
    {
     "name": "stdout",
     "output_type": "stream",
     "text": [
      "14 sales nodes, 101 edges, time taken: 14.7455 minutes, final log-likelihood: -383.48\n"
     ]
    },
    {
     "name": "stderr",
     "output_type": "stream",
     "text": [
      "100%|██████████| 50/50 [13:44<00:00, 16.49s/it]\n"
     ]
    },
    {
     "name": "stdout",
     "output_type": "stream",
     "text": [
      "15 sales nodes, 87 edges, time taken: 13.7424 minutes, final log-likelihood: -359.63\n"
     ]
    },
    {
     "name": "stderr",
     "output_type": "stream",
     "text": [
      "100%|██████████| 50/50 [20:35<00:00, 24.71s/it]\n"
     ]
    },
    {
     "name": "stdout",
     "output_type": "stream",
     "text": [
      "16 sales nodes, 121 edges, time taken: 20.5907 minutes, final log-likelihood: -477.95\n"
     ]
    },
    {
     "name": "stderr",
     "output_type": "stream",
     "text": [
      "100%|██████████| 50/50 [28:28<00:00, 34.17s/it]"
     ]
    },
    {
     "name": "stdout",
     "output_type": "stream",
     "text": [
      "17 sales nodes, 136 edges, time taken: 28.4795 minutes, final log-likelihood: -477.05\n"
     ]
    },
    {
     "name": "stderr",
     "output_type": "stream",
     "text": [
      "\n"
     ]
    }
   ],
   "source": [
    "results = {}\n",
    "\n",
    "debtor_days_by_acc = ()\n",
    "average_rates_by_acc = ()\n",
    "\n",
    "for count_sales_nodes in tqdm(range(1, 18)):\n",
    "    # Pick a new average rate of the sales occurring, and a number\n",
    "    # of days between these new sales and the debtors settling\n",
    "    debtor_days_by_acc = tuple(list(debtor_days_by_acc) + [np.random.randint(1, 30)])\n",
    "    average_rates_by_acc = tuple(list(average_rates_by_acc) + [0.15 + np.random.random() / 20])\n",
    "\n",
    "    # Generate the synthetic data with this additional sales node\n",
    "    edges_by_day, last_day, raw_accounts = \\\n",
    "        tools.simulate_many_nodes(\n",
    "            count_sales_nodes=count_sales_nodes,\n",
    "            debtor_days_by_acc=debtor_days_by_acc,\n",
    "            average_rates_by_acc=average_rates_by_acc,\n",
    "            total_days=30\n",
    "        )\n",
    "\n",
    "    # Count the number of generated edges\n",
    "    count_edges = sum(len(day) for day in edges_by_day.values())\n",
    "\n",
    "    # Start recording the time\n",
    "    start_time = time.time()\n",
    "\n",
    "    # Create a graph object\n",
    "    graph = generate_graph(\n",
    "        raw_accounts=raw_accounts,\n",
    "        edges_by_day=edges_by_day,\n",
    "        last_day=last_day,\n",
    "        node_dimension=32,\n",
    "        graph_kwords={\n",
    "            'causal_learning_rate': 0.01,\n",
    "            'weight_regularisation_rate': 10**(-5),\n",
    "            'spontaneous_regularisation_rate': 10**(-7)\n",
    "        }\n",
    "    )\n",
    "\n",
    "    # Train\n",
    "    probabilities = train(\n",
    "        graph, edges_by_day, last_day, iterations=50,\n",
    "        plot_log_likelihood=False, use_tqdm=False,\n",
    "        spontaneous_learning_startpoint=25\n",
    "        )\n",
    "\n",
    "    # Stop the timer\n",
    "    end_time = time.time()\n",
    "\n",
    "    # Print and record the results\n",
    "    print(f'{count_sales_nodes} sales nodes, '\n",
    "          f'{count_edges} edges, '\n",
    "          f'time taken: {(end_time-start_time)/60:,.4f} minutes, '\n",
    "          f'final log-likelihood: {probabilities[-1]:,.2f}')\n",
    "    results[count_sales_nodes+2] = {\n",
    "        'count_edges': count_edges,\n",
    "        'time_taken': (end_time-start_time)/60,\n",
    "        'log_likelihood': probabilities[-1]\n",
    "    }"
   ]
  },
  {
   "cell_type": "code",
   "execution_count": null,
   "metadata": {},
   "outputs": [],
   "source": [
    "# Save the results\n",
    "with open('saved_results//hyperparameters_nodes_results.pkl', 'wb') as f:\n",
    "    pickle.dump(results, f)"
   ]
  },
  {
   "cell_type": "markdown",
   "metadata": {},
   "source": [
    "# Plot"
   ]
  },
  {
   "cell_type": "code",
   "execution_count": 10,
   "metadata": {},
   "outputs": [
    {
     "data": {
      "image/png": "[encoded data removed]",
      "text/plain": [
       "<Figure size 1000x300 with 2 Axes>"
      ]
     },
     "metadata": {},
     "output_type": "display_data"
    }
   ],
   "source": [
    "# Create the x-axis data\n",
    "node_numbers = np.array(list(node_count for node_count in results.keys()))\n",
    "node_numbers.sort()\n",
    "\n",
    "# Create the subplots\n",
    "fig, axes = plt.subplots(1, 2)\n",
    "\n",
    "fig.tight_layout()\n",
    "fig.set_figwidth(10)\n",
    "fig.set_figheight(3)\n",
    "\n",
    "# Create the y-axis data for the time taken\n",
    "times = np.array([results[node_count]['time_taken'] for node_count in node_numbers])\n",
    "\n",
    "# Plot the time taken\n",
    "axes[0].plot(\n",
    "    node_numbers, times, label='True timings'\n",
    ")\n",
    "\n",
    "axes[0].set_xlabel('Number of nodes')\n",
    "axes[0].set_ylabel('Time to train (mins)')\n",
    "axes[0].set_title('Training time')\n",
    "\n",
    "# Fit a cubic polynomial to the time-taken data\n",
    "degree = 3\n",
    "polynomial = np.polynomial.polynomial.Polynomial.fit(node_numbers, times, degree)\n",
    "predicted = [\n",
    "    polynomial(node_count)\n",
    "    for node_count in node_numbers\n",
    "]\n",
    "\n",
    "# Plot the cubic polynomial\n",
    "axes[0].plot(node_numbers, predicted, linestyle='dotted', label='Cubic fit')\n",
    "\n",
    "axes[0].legend(loc='upper left')\n",
    "\n",
    "# Create the y-axis data for the log-likelihood divided by n(n-1), that is\n",
    "# the average log-likelihood per possible edge\n",
    "log_likelihoods = \\\n",
    "    np.array([results[node_count]['log_likelihood']/(node_count*(node_count-1))\n",
    "              for node_count in node_numbers])\n",
    "\n",
    "# Plot the log-likelihood\n",
    "axes[1].plot(\n",
    "    node_numbers, log_likelihoods\n",
    ")\n",
    "\n",
    "axes[1].set_xlabel('Number of nodes')\n",
    "axes[1].set_ylabel('Average log-likelihood')\n",
    "axes[1].set_title('Log-likelihood per possible edge')\n",
    "\n",
    "plt.show()"
   ]
  }
 ],
 "metadata": {
  "kernelspec": {
   "display_name": "Python 3",
   "language": "python",
   "name": "python3"
  },
  "language_info": {
   "codemirror_mode": {
    "name": "ipython",
    "version": 3
   },
   "file_extension": ".py",
   "mimetype": "text/x-python",
   "name": "python",
   "nbconvert_exporter": "python",
   "pygments_lexer": "ipython3",
   "version": "3.10.11"
  }
 },
 "nbformat": 4,
 "nbformat_minor": 2
}
