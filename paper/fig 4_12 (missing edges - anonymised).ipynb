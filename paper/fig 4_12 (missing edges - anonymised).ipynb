{
 "cells": [
  {
   "cell_type": "code",
   "execution_count": 1,
   "metadata": {},
   "outputs": [],
   "source": [
    "# Library imports\n",
    "import numpy as np\n",
    "import pickle\n",
    "import matplotlib.pyplot as plt\n",
    "import random\n",
    "\n",
    "import tools\n",
    "from train import generate_graph, train"
   ]
  },
  {
   "cell_type": "code",
   "execution_count": 2,
   "metadata": {},
   "outputs": [
    {
     "data": {
      "text/plain": [
       "{'divide': 'warn', 'over': 'warn', 'under': 'ignore', 'invalid': 'warn'}"
      ]
     },
     "execution_count": 2,
     "metadata": {},
     "output_type": "execute_result"
    }
   ],
   "source": [
    "# Fix random seed for reproducibility\n",
    "np.random.seed(628496)\n",
    "random.seed(628496)\n",
    "\n",
    "# Stop on errors\n",
    "np.seterr('raise')"
   ]
  },
  {
   "cell_type": "code",
   "execution_count": 3,
   "metadata": {},
   "outputs": [],
   "source": [
    "# Load the anonymous data\n",
    "file_path = 'datasets\\\\real_data_graph.pkl'\n",
    "with open(file_path, 'rb') as f:\n",
    "    edges_by_day, last_day, raw_accounts = pickle.load(f)\n"
   ]
  },
  {
   "cell_type": "code",
   "execution_count": 4,
   "metadata": {},
   "outputs": [
    {
     "name": "stdout",
     "output_type": "stream",
     "text": [
      "There were 295 edges generated.\n"
     ]
    }
   ],
   "source": [
    "# Count the number of generated edges to validate that the correct data is loaded\n",
    "count_edges = sum(len(day) for day in edges_by_day.values())\n",
    "print(f'There were {count_edges} edges generated.')"
   ]
  },
  {
   "cell_type": "code",
   "execution_count": 5,
   "metadata": {},
   "outputs": [
    {
     "name": "stdout",
     "output_type": "stream",
     "text": [
      "3 edges were removed. 292 edges remaining.\n"
     ]
    }
   ],
   "source": [
    "# Remove three (4, 7) edges\n",
    "\n",
    "# Find (4, 7) edges\n",
    "target_edge_days = []\n",
    "for day in sorted(list(edges_by_day.keys())):\n",
    "    edges = edges_by_day[day]\n",
    "    for edge in edges:\n",
    "        if edge[0] == 4 and edge[1] == 7:\n",
    "            target_edge_days.append((day, edge[0], edge[1], edge[2]))\n",
    "\n",
    "count_removed_edges = 3\n",
    "\n",
    "# Choose random edges\n",
    "random_edges = random.sample(target_edge_days, count_removed_edges)\n",
    "random_days = set(edge[0] for edge in random_edges)\n",
    "\n",
    "# Remove the edges from those days\n",
    "for day, i, j, value in random_edges:\n",
    "    edges_by_day[day].remove((i, j, value))\n",
    "\n",
    "print(f'{count_removed_edges} edges were removed. {sum(len(edges) for edges in edges_by_day.values())} edges remaining.')"
   ]
  },
  {
   "cell_type": "code",
   "execution_count": 6,
   "metadata": {},
   "outputs": [],
   "source": [
    "# Create a graph object with the generated accounts\n",
    "graph = generate_graph(\n",
    "    raw_accounts=raw_accounts,\n",
    "    edges_by_day=edges_by_day,\n",
    "    last_day=last_day,\n",
    "    node_dimension=256,\n",
    "    graph_kwords={\n",
    "        'causal_learning_rate': 0.001,\n",
    "        'spontaneous_learning_rate': 10**(-6),\n",
    "        'spontaneous_learning_rate': 10**(-6),\n",
    "        'weight_regularisation_rate': 10**(-6)\n",
    "    }\n",
    ")"
   ]
  },
  {
   "cell_type": "code",
   "execution_count": 7,
   "metadata": {},
   "outputs": [
    {
     "name": "stderr",
     "output_type": "stream",
     "text": [
      "100%|██████████| 200/200 [2:36:09<00:00, 46.85s/it]  \n"
     ]
    }
   ],
   "source": [
    "# Train on the tainted data\n",
    "probabilities = train(\n",
    "    graph, edges_by_day, last_day, iterations=200,\n",
    "    plot_log_likelihood=False, use_tqdm=True,\n",
    "    spontaneous_learning_startpoint=150\n",
    "    )"
   ]
  },
  {
   "cell_type": "code",
   "execution_count": 8,
   "metadata": {},
   "outputs": [],
   "source": [
    "# Save the trained model and results\n",
    "with open('saved_results//missing_edges_anonymised_results.pkl', 'wb') as f:\n",
    "    pickle.dump((probabilities, graph), f)"
   ]
  },
  {
   "cell_type": "code",
   "execution_count": 9,
   "metadata": {},
   "outputs": [
    {
     "name": "stderr",
     "output_type": "stream",
     "text": [
      "100%|██████████| 35/35 [00:07<00:00,  4.63it/s]\n"
     ]
    }
   ],
   "source": [
    "# Find the probability that the number of a particular edge type on a particular\n",
    "# day is lower than expected (suggesting edges have been removed/omitted)\n",
    "all_probabilities = tools.return_probabilities_of_missing_edges(graph, edges_by_day, last_day)"
   ]
  },
  {
   "cell_type": "code",
   "execution_count": 10,
   "metadata": {},
   "outputs": [
    {
     "name": "stdout",
     "output_type": "stream",
     "text": [
      "There were 40260 day-edge pairs (including those with count=0).\n"
     ]
    }
   ],
   "source": [
    "print(f'There were {len(all_probabilities)} day-edge pairs (including those with count=0).')"
   ]
  },
  {
   "cell_type": "code",
   "execution_count": 11,
   "metadata": {},
   "outputs": [],
   "source": [
    "# Sort the probabilities from most to least suspicious\n",
    "all_probabilities.sort(key=lambda x: x[3], reverse=True)"
   ]
  },
  {
   "cell_type": "code",
   "execution_count": 15,
   "metadata": {},
   "outputs": [
    {
     "name": "stdout",
     "output_type": "stream",
     "text": [
      "(245, 2, 3, 0.9469321173757579, 0, 2.9361833807290747, 1.0292434742965873e-06, 2.9361823514856003)\n",
      "(246, 3, 9, 0.8805587903785064, 0, 2.124930998361982, 1e-06, 2.124929998361982)\n",
      "(247, 3, 9, 0.8352156773157231, 0, 1.803117795374829, 1e-06, 1.803116795374829)\n",
      "(250, 2, 7, 0.817956599599938, 0, 1.7035101565966955, 1e-06, 1.7035091565966956)\n",
      "(251, 7, 3, 0.807003585438514, 0, 1.6450836676514402, 1e-06, 1.6450826676514403)\n",
      "(250, 7, 3, 0.806258502795798, 0, 1.64123049710934, 1e-06, 1.6412294971093402)\n",
      "(251, 2, 7, 0.8009612925239119, 0, 1.6142559632421576, 1e-06, 1.6142549632421577)\n",
      "(249, 2, 7, 0.7957395253343078, 0, 1.5883592630040206, 1e-06, 1.5883582630040207)\n",
      "(245, 3, 9, 0.7780919488489433, 0, 1.5054921669119925, 1e-06, 1.5054911669119926)\n",
      "(252, 7, 3, 0.7723655391304384, 0, 1.4800141783953025, 1e-06, 1.4800131783953026)\n",
      "(251, 4, 3, 0.7717693021745795, 0, 1.4773983290175905, 1.0001406952311592e-06, 1.4773973288768953)\n",
      "(249, 7, 3, 0.7691348640358996, 0, 1.4659215659489224, 1e-06, 1.4659205659489225)\n",
      "(250, 4, 3, 0.7592926717314495, 0, 1.4241734890040965, 1.0001406952311592e-06, 1.4241724888634013)\n",
      "(250, 3, 1, 0.7556983099602839, 0, 1.40935138285569, 1e-06, 1.4093503828556901)\n",
      "(252, 4, 3, 0.7487064491153345, 0, 1.3811334977755583, 1.0001406952311592e-06, 1.3811324976348631)\n",
      "(249, 3, 1, 0.7411862718369291, 0, 1.3516466723098912, 1e-06, 1.3516456723098913)\n",
      "(252, 2, 7, 0.7408172040112512, 0, 1.3502216902070332, 1e-06, 1.3502206902070333)\n",
      "(250, 6, 3, 0.7389196602318956, 0, 1.3429271038213577, 1e-06, 1.3429261038213578)\n",
      "(251, 6, 3, 0.7376812072222172, 0, 1.3381947485538377, 1e-06, 1.3381937485538378)\n",
      "(248, 3, 9, 0.7326743448146549, 0, 1.3192876814480214, 1e-06, 1.3192866814480215)\n"
     ]
    }
   ],
   "source": [
    "# Print the most suspicious entries\n",
    "for details in all_probabilities[:20]:\n",
    "    print(details)"
   ]
  },
  {
   "cell_type": "code",
   "execution_count": 17,
   "metadata": {},
   "outputs": [
    {
     "name": "stdout",
     "output_type": "stream",
     "text": [
      "(Genuine) Item 33 of 40260: (251, 4, 7, 0.6934170748846595, 0, 1.1822670051737014, 1e-06, 1.1822660051737015)\n",
      "(Genuine) Item 34 of 40260: (252, 4, 7, 0.6934081527999236, 0, 1.1822379038957642, 1e-06, 1.1822369038957643)\n",
      "(Genuine) Item 55 of 40260: (253, 4, 7, 0.6577828688273251, 0, 1.0723098569048737, 1e-06, 1.0723088569048738)\n",
      "(Genuine) Item 58 of 40260: (250, 4, 7, 0.6560841844671197, 0, 1.0673583738462629, 1e-06, 1.067357373846263)\n",
      "(Genuine) Item 132 of 40260: (254, 4, 7, 0.5878182419399314, 0, 0.88629086657525, 1e-06, 0.88628986657525)\n",
      "(Genuine) Item 140 of 40260: (249, 4, 7, 0.5781952600949779, 0, 0.8632127736724313, 1e-06, 0.8632117736724313)\n",
      "(Genuine) Item 315 of 40260: (255, 4, 7, 0.4892465999574891, 0, 0.6718683883461893, 1e-06, 0.6718673883461893)\n",
      "(Genuine) Item 400 of 40260: (248, 4, 7, 0.4596194804666207, 0, 0.6154817217816358, 1e-06, 0.6154807217816358)\n",
      "(Genuine) Item 645 of 40260: (256, 4, 7, 0.37587059325337124, 0, 0.4713975495067328, 1e-06, 0.4713965495067328)\n",
      "(Genuine) Item 822 of 40260: (247, 4, 7, 0.31177397413229835, 0, 0.37363796903113705, 1e-06, 0.3736369690311371)\n",
      "(Genuine) Item 947 of 40260: (257, 4, 7, 0.26582037695051564, 0, 0.3090015622551309, 1e-06, 0.30900056225513095)\n",
      "(Genuine) Item 1194 of 40260: (258, 4, 7, 0.17381410240105466, 0, 0.19093547315698545, 1e-06, 0.19093447315698545)\n",
      "(Genuine) Item 1229 of 40260: (246, 4, 7, 0.16298586270569237, 0, 0.1779143182000494, 1e-06, 0.1779133182000494)\n",
      "(Genuine) Item 1437 of 40260: (259, 4, 7, 0.09694526697120898, 0, 0.10197211496702648, 1e-06, 0.10197111496702647)\n",
      "(Genuine) Item 1641 of 40260: (260, 4, 7, 0.05746209805474978, 0, 0.05917914620302571, 1e-06, 0.05917814620302571)\n",
      "(Genuine) Item 1687 of 40260: (245, 4, 7, 0.05276473524862213, 0, 0.05420778502244276, 1e-06, 0.054206785022442756)\n",
      "(Genuine) Item 1828 of 40260: (340, 4, 7, 0.041418958728467015, 0, 0.04230116996988366, 1e-06, 0.04230016996988366)\n",
      "(Genuine) Item 1839 of 40260: (341, 4, 7, 0.0409268973564596, 0, 0.04178797901272582, 1e-06, 0.04178697901272582)\n",
      "(Genuine) Item 1856 of 40260: (280, 4, 7, 0.04025191176685483, 0, 0.04108443704575602, 1e-06, 0.04108343704575602)\n",
      "(Genuine) Item 1858 of 40260: (279, 4, 7, 0.04020789370648581, 0, 0.04103857391613539, 1e-06, 0.04103757391613539)\n",
      "(Missing) Item 11636 of 40260: (304, 4, 7, 0.00837488950892451, 0, 0.008410155935722618, 1e-06, 0.008409155935722619)\n",
      "(Missing) Item 15452 of 40260: (334, 4, 7, 0.005781522740850642, 0, 0.0057983004418111364, 1e-06, 0.005797300441811136)\n",
      "(Missing) Item 31816 of 40260: (243, 4, 7, 0.00010799505115000052, 0, 0.00010800088303539773, 1e-06, 0.00010700088303539773)\n"
     ]
    }
   ],
   "source": [
    "# Find the locations of the added edges and the genuine edges\n",
    "removed_rank = []\n",
    "notremoved_rank = []\n",
    "printed_genuine = 0\n",
    "for i, edge in enumerate(all_probabilities):\n",
    "    if edge[0] in random_days and edge[1] == 4 and edge[2] == 7:\n",
    "        print(f'(Missing) Item {i+1} of {len(all_probabilities)}:', edge)\n",
    "        removed_rank.append(i)\n",
    "    elif edge[1] == 4 and edge[2] == 7:\n",
    "        if printed_genuine < 20:\n",
    "            print(f'(Genuine) Item {i+1} of {len(all_probabilities)}:', edge)\n",
    "            printed_genuine += 1\n",
    "        notremoved_rank.append(i)"
   ]
  },
  {
   "cell_type": "code",
   "execution_count": 13,
   "metadata": {},
   "outputs": [
    {
     "data": {
      "image/png": "[encoded data removed]",
      "text/plain": [
       "<Figure size 640x480 with 1 Axes>"
      ]
     },
     "metadata": {},
     "output_type": "display_data"
    }
   ],
   "source": [
    "# Plot all the probabilities, highlighting which ones had edges removed and\n",
    "# which ones related to the same edge type but were unamended\n",
    "plt.fill_between(\n",
    "    np.arange(len(all_probabilities)),\n",
    "    np.zeros(len(all_probabilities)),\n",
    "    np.array([edge[3] for edge in all_probabilities]),\n",
    "    color='#d3d3d3',\n",
    "    label='Other edge'\n",
    ")\n",
    "plt.bar(\n",
    "    removed_rank,\n",
    "    [all_probabilities[i][3] for i in removed_rank],\n",
    "    width=1.0,\n",
    "    color='#d62728',\n",
    "    label='Removed (4, 7) edge'\n",
    ")\n",
    "plt.bar(\n",
    "    notremoved_rank,\n",
    "    [all_probabilities[i][3] for i in notremoved_rank],\n",
    "    width=1.0,\n",
    "    color='#5f9ea0',\n",
    "    label='Genuine (4, 7) edge'\n",
    ")\n",
    "plt.scatter(\n",
    "    removed_rank,\n",
    "    [all_probabilities[i][3] for i in removed_rank],\n",
    "    marker='*', c='red'\n",
    ")\n",
    "\n",
    "plt.legend(loc='upper right')\n",
    "\n",
    "plt.xlabel('Possible edge and day (sorted)')\n",
    "plt.ylabel('Probability of missing edges')\n",
    "plt.title('Probabilities of missing edges for different edges and days')\n",
    "\n",
    "plt.show()"
   ]
  },
  {
   "cell_type": "code",
   "execution_count": 14,
   "metadata": {},
   "outputs": [
    {
     "name": "stdout",
     "output_type": "stream",
     "text": [
      "Average removed rank: 19634.666666666668\n",
      "Genuine average rank: 20442.14876033058\n"
     ]
    }
   ],
   "source": [
    "print(f'Average removed rank: {np.mean([i+1 for i in removed_rank])}')\n",
    "print(f'Genuine average rank: {np.mean([i+1 for i in notremoved_rank])}')"
   ]
  }
 ],
 "metadata": {
  "kernelspec": {
   "display_name": "Python 3",
   "language": "python",
   "name": "python3"
  },
  "language_info": {
   "codemirror_mode": {
    "name": "ipython",
    "version": 3
   },
   "file_extension": ".py",
   "mimetype": "text/x-python",
   "name": "python",
   "nbconvert_exporter": "python",
   "pygments_lexer": "ipython3",
   "version": "3.10.11"
  }
 },
 "nbformat": 4,
 "nbformat_minor": 2
}
